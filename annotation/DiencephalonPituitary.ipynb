{
 "cells": [
  {
   "cell_type": "code",
   "execution_count": 4,
   "id": "e0f1c1d2-efc2-45ed-8266-1d0fc1c53ed7",
   "metadata": {},
   "outputs": [],
   "source": [
    "import numpy as np\n",
    "import pandas as pd\n",
    "import scanpy as sc\n",
    "import seaborn as sns\n",
    "from natsort import natsorted\n",
    "import matplotlib.pyplot as plt\n",
    "import decoupler as dc\n",
    "\n",
    "sns.set_context(\"paper\", font_scale=2) # set some nice global plotting settings."
   ]
  },
  {
   "cell_type": "code",
   "execution_count": 5,
   "id": "6ea420cc-4a7c-4fc4-bb03-bea08250b6ee",
   "metadata": {},
   "outputs": [],
   "source": [
    "tissue = 'DiencephalonPituitary'"
   ]
  },
  {
   "cell_type": "code",
   "execution_count": 6,
   "id": "505df460-cf76-4ec5-a4d7-6bc25969414b",
   "metadata": {},
   "outputs": [],
   "source": [
    "plate_palette = sns.color_palette(\"husl\", n_colors=3)\n",
    "sex_palette = ['hotpink','dodgerblue']\n",
    "geno_palette = ['#DA9CC1', '#F4C245', '#C0BFBF', '#55AF5B', '#4F6EAF', '#52A5DB', '#D83026', '#683C91']\n"
   ]
  },
  {
   "cell_type": "code",
   "execution_count": 7,
   "id": "9998482e-e1b9-4250-9481-d721fe1e65f9",
   "metadata": {
    "collapsed": true,
    "jupyter": {
     "outputs_hidden": true
    },
    "tags": []
   },
   "outputs": [
    {
     "ename": "KeyboardInterrupt",
     "evalue": "",
     "output_type": "error",
     "traceback": [
      "\u001b[0;31m---------------------------------------------------------------------------\u001b[0m",
      "\u001b[0;31mKeyboardInterrupt\u001b[0m                         Traceback (most recent call last)",
      "Cell \u001b[0;32mIn[7], line 1\u001b[0m\n\u001b[0;32m----> 1\u001b[0m adata \u001b[38;5;241m=\u001b[39m \u001b[43msc\u001b[49m\u001b[38;5;241;43m.\u001b[39;49m\u001b[43mread_h5ad\u001b[49m\u001b[43m(\u001b[49m\u001b[38;5;124;43mf\u001b[39;49m\u001b[38;5;124;43m'\u001b[39;49m\u001b[38;5;124;43m../IGVF_analysis/cellbender_tissues/processed/\u001b[39;49m\u001b[38;5;132;43;01m{\u001b[39;49;00m\u001b[43mtissue\u001b[49m\u001b[38;5;132;43;01m}\u001b[39;49;00m\u001b[38;5;124;43m_processed_subclustered_res0.1.h5ad\u001b[39;49m\u001b[38;5;124;43m'\u001b[39;49m\u001b[43m)\u001b[49m\n",
      "File \u001b[0;32m~/.local/lib/python3.10/site-packages/anndata/_io/h5ad.py:261\u001b[0m, in \u001b[0;36mread_h5ad\u001b[0;34m(filename, backed, as_sparse, as_sparse_fmt, chunk_size)\u001b[0m\n\u001b[1;32m    258\u001b[0m         \u001b[38;5;28;01mreturn\u001b[39;00m read_dataframe(elem)\n\u001b[1;32m    259\u001b[0m     \u001b[38;5;28;01mreturn\u001b[39;00m func(elem)\n\u001b[0;32m--> 261\u001b[0m adata \u001b[38;5;241m=\u001b[39m \u001b[43mread_dispatched\u001b[49m\u001b[43m(\u001b[49m\u001b[43mf\u001b[49m\u001b[43m,\u001b[49m\u001b[43m \u001b[49m\u001b[43mcallback\u001b[49m\u001b[38;5;241;43m=\u001b[39;49m\u001b[43mcallback\u001b[49m\u001b[43m)\u001b[49m\n\u001b[1;32m    263\u001b[0m \u001b[38;5;66;03m# Backwards compat (should figure out which version)\u001b[39;00m\n\u001b[1;32m    264\u001b[0m \u001b[38;5;28;01mif\u001b[39;00m \u001b[38;5;124m\"\u001b[39m\u001b[38;5;124mraw.X\u001b[39m\u001b[38;5;124m\"\u001b[39m \u001b[38;5;129;01min\u001b[39;00m f:\n",
      "File \u001b[0;32m~/.local/lib/python3.10/site-packages/anndata/experimental/_dispatch_io.py:48\u001b[0m, in \u001b[0;36mread_dispatched\u001b[0;34m(elem, callback)\u001b[0m\n\u001b[1;32m     44\u001b[0m \u001b[38;5;28;01mfrom\u001b[39;00m \u001b[38;5;21;01manndata\u001b[39;00m\u001b[38;5;21;01m.\u001b[39;00m\u001b[38;5;21;01m_io\u001b[39;00m\u001b[38;5;21;01m.\u001b[39;00m\u001b[38;5;21;01mspecs\u001b[39;00m \u001b[38;5;28;01mimport\u001b[39;00m _REGISTRY, Reader\n\u001b[1;32m     46\u001b[0m reader \u001b[38;5;241m=\u001b[39m Reader(_REGISTRY, callback\u001b[38;5;241m=\u001b[39mcallback)\n\u001b[0;32m---> 48\u001b[0m \u001b[38;5;28;01mreturn\u001b[39;00m \u001b[43mreader\u001b[49m\u001b[38;5;241;43m.\u001b[39;49m\u001b[43mread_elem\u001b[49m\u001b[43m(\u001b[49m\u001b[43melem\u001b[49m\u001b[43m)\u001b[49m\n",
      "File \u001b[0;32m~/.local/lib/python3.10/site-packages/anndata/_io/utils.py:207\u001b[0m, in \u001b[0;36mreport_read_key_on_error.<locals>.func_wrapper\u001b[0;34m(*args, **kwargs)\u001b[0m\n\u001b[1;32m    205\u001b[0m     \u001b[38;5;28;01mraise\u001b[39;00m \u001b[38;5;167;01mValueError\u001b[39;00m(\u001b[38;5;124m\"\u001b[39m\u001b[38;5;124mNo element found in args.\u001b[39m\u001b[38;5;124m\"\u001b[39m)\n\u001b[1;32m    206\u001b[0m \u001b[38;5;28;01mtry\u001b[39;00m:\n\u001b[0;32m--> 207\u001b[0m     \u001b[38;5;28;01mreturn\u001b[39;00m \u001b[43mfunc\u001b[49m\u001b[43m(\u001b[49m\u001b[38;5;241;43m*\u001b[39;49m\u001b[43margs\u001b[49m\u001b[43m,\u001b[49m\u001b[43m \u001b[49m\u001b[38;5;241;43m*\u001b[39;49m\u001b[38;5;241;43m*\u001b[39;49m\u001b[43mkwargs\u001b[49m\u001b[43m)\u001b[49m\n\u001b[1;32m    208\u001b[0m \u001b[38;5;28;01mexcept\u001b[39;00m \u001b[38;5;167;01mException\u001b[39;00m \u001b[38;5;28;01mas\u001b[39;00m e:\n\u001b[1;32m    209\u001b[0m     path, key \u001b[38;5;241m=\u001b[39m _get_display_path(store)\u001b[38;5;241m.\u001b[39mrsplit(\u001b[38;5;124m\"\u001b[39m\u001b[38;5;124m/\u001b[39m\u001b[38;5;124m\"\u001b[39m, \u001b[38;5;241m1\u001b[39m)\n",
      "File \u001b[0;32m~/.local/lib/python3.10/site-packages/anndata/_io/specs/registry.py:256\u001b[0m, in \u001b[0;36mReader.read_elem\u001b[0;34m(self, elem, modifiers)\u001b[0m\n\u001b[1;32m    254\u001b[0m \u001b[38;5;28;01mif\u001b[39;00m \u001b[38;5;28mself\u001b[39m\u001b[38;5;241m.\u001b[39mcallback \u001b[38;5;129;01mis\u001b[39;00m \u001b[38;5;28;01mNone\u001b[39;00m:\n\u001b[1;32m    255\u001b[0m     \u001b[38;5;28;01mreturn\u001b[39;00m read_func(elem)\n\u001b[0;32m--> 256\u001b[0m \u001b[38;5;28;01mreturn\u001b[39;00m \u001b[38;5;28;43mself\u001b[39;49m\u001b[38;5;241;43m.\u001b[39;49m\u001b[43mcallback\u001b[49m\u001b[43m(\u001b[49m\u001b[43mread_func\u001b[49m\u001b[43m,\u001b[49m\u001b[43m \u001b[49m\u001b[43melem\u001b[49m\u001b[38;5;241;43m.\u001b[39;49m\u001b[43mname\u001b[49m\u001b[43m,\u001b[49m\u001b[43m \u001b[49m\u001b[43melem\u001b[49m\u001b[43m,\u001b[49m\u001b[43m \u001b[49m\u001b[43miospec\u001b[49m\u001b[38;5;241;43m=\u001b[39;49m\u001b[43miospec\u001b[49m\u001b[43m)\u001b[49m\n",
      "File \u001b[0;32m~/.local/lib/python3.10/site-packages/anndata/_io/h5ad.py:242\u001b[0m, in \u001b[0;36mread_h5ad.<locals>.callback\u001b[0;34m(func, elem_name, elem, iospec)\u001b[0m\n\u001b[1;32m    239\u001b[0m \u001b[38;5;28;01mdef\u001b[39;00m \u001b[38;5;21mcallback\u001b[39m(func, elem_name: \u001b[38;5;28mstr\u001b[39m, elem, iospec):\n\u001b[1;32m    240\u001b[0m     \u001b[38;5;28;01mif\u001b[39;00m iospec\u001b[38;5;241m.\u001b[39mencoding_type \u001b[38;5;241m==\u001b[39m \u001b[38;5;124m\"\u001b[39m\u001b[38;5;124manndata\u001b[39m\u001b[38;5;124m\"\u001b[39m \u001b[38;5;129;01mor\u001b[39;00m elem_name\u001b[38;5;241m.\u001b[39mendswith(\u001b[38;5;124m\"\u001b[39m\u001b[38;5;124m/\u001b[39m\u001b[38;5;124m\"\u001b[39m):\n\u001b[1;32m    241\u001b[0m         \u001b[38;5;28;01mreturn\u001b[39;00m AnnData(\n\u001b[0;32m--> 242\u001b[0m             \u001b[38;5;241m*\u001b[39m\u001b[38;5;241m*\u001b[39m{\n\u001b[1;32m    243\u001b[0m                 \u001b[38;5;66;03m# This is covering up backwards compat in the anndata initializer\u001b[39;00m\n\u001b[1;32m    244\u001b[0m                 \u001b[38;5;66;03m# In most cases we should be able to call `func(elen[k])` instead\u001b[39;00m\n\u001b[1;32m    245\u001b[0m                 k: read_dispatched(elem[k], callback)\n\u001b[1;32m    246\u001b[0m                 \u001b[38;5;28;01mfor\u001b[39;00m k \u001b[38;5;129;01min\u001b[39;00m elem\u001b[38;5;241m.\u001b[39mkeys()\n\u001b[1;32m    247\u001b[0m                 \u001b[38;5;28;01mif\u001b[39;00m \u001b[38;5;129;01mnot\u001b[39;00m k\u001b[38;5;241m.\u001b[39mstartswith(\u001b[38;5;124m\"\u001b[39m\u001b[38;5;124mraw.\u001b[39m\u001b[38;5;124m\"\u001b[39m)\n\u001b[1;32m    248\u001b[0m             }\n\u001b[1;32m    249\u001b[0m         )\n\u001b[1;32m    250\u001b[0m     \u001b[38;5;28;01melif\u001b[39;00m elem_name\u001b[38;5;241m.\u001b[39mstartswith(\u001b[38;5;124m\"\u001b[39m\u001b[38;5;124m/raw.\u001b[39m\u001b[38;5;124m\"\u001b[39m):\n\u001b[1;32m    251\u001b[0m         \u001b[38;5;28;01mreturn\u001b[39;00m \u001b[38;5;28;01mNone\u001b[39;00m\n",
      "File \u001b[0;32m~/.local/lib/python3.10/site-packages/anndata/_io/h5ad.py:245\u001b[0m, in \u001b[0;36m<dictcomp>\u001b[0;34m(.0)\u001b[0m\n\u001b[1;32m    239\u001b[0m \u001b[38;5;28;01mdef\u001b[39;00m \u001b[38;5;21mcallback\u001b[39m(func, elem_name: \u001b[38;5;28mstr\u001b[39m, elem, iospec):\n\u001b[1;32m    240\u001b[0m     \u001b[38;5;28;01mif\u001b[39;00m iospec\u001b[38;5;241m.\u001b[39mencoding_type \u001b[38;5;241m==\u001b[39m \u001b[38;5;124m\"\u001b[39m\u001b[38;5;124manndata\u001b[39m\u001b[38;5;124m\"\u001b[39m \u001b[38;5;129;01mor\u001b[39;00m elem_name\u001b[38;5;241m.\u001b[39mendswith(\u001b[38;5;124m\"\u001b[39m\u001b[38;5;124m/\u001b[39m\u001b[38;5;124m\"\u001b[39m):\n\u001b[1;32m    241\u001b[0m         \u001b[38;5;28;01mreturn\u001b[39;00m AnnData(\n\u001b[1;32m    242\u001b[0m             \u001b[38;5;241m*\u001b[39m\u001b[38;5;241m*\u001b[39m{\n\u001b[1;32m    243\u001b[0m                 \u001b[38;5;66;03m# This is covering up backwards compat in the anndata initializer\u001b[39;00m\n\u001b[1;32m    244\u001b[0m                 \u001b[38;5;66;03m# In most cases we should be able to call `func(elen[k])` instead\u001b[39;00m\n\u001b[0;32m--> 245\u001b[0m                 k: \u001b[43mread_dispatched\u001b[49m\u001b[43m(\u001b[49m\u001b[43melem\u001b[49m\u001b[43m[\u001b[49m\u001b[43mk\u001b[49m\u001b[43m]\u001b[49m\u001b[43m,\u001b[49m\u001b[43m \u001b[49m\u001b[43mcallback\u001b[49m\u001b[43m)\u001b[49m\n\u001b[1;32m    246\u001b[0m                 \u001b[38;5;28;01mfor\u001b[39;00m k \u001b[38;5;129;01min\u001b[39;00m elem\u001b[38;5;241m.\u001b[39mkeys()\n\u001b[1;32m    247\u001b[0m                 \u001b[38;5;28;01mif\u001b[39;00m \u001b[38;5;129;01mnot\u001b[39;00m k\u001b[38;5;241m.\u001b[39mstartswith(\u001b[38;5;124m\"\u001b[39m\u001b[38;5;124mraw.\u001b[39m\u001b[38;5;124m\"\u001b[39m)\n\u001b[1;32m    248\u001b[0m             }\n\u001b[1;32m    249\u001b[0m         )\n\u001b[1;32m    250\u001b[0m     \u001b[38;5;28;01melif\u001b[39;00m elem_name\u001b[38;5;241m.\u001b[39mstartswith(\u001b[38;5;124m\"\u001b[39m\u001b[38;5;124m/raw.\u001b[39m\u001b[38;5;124m\"\u001b[39m):\n\u001b[1;32m    251\u001b[0m         \u001b[38;5;28;01mreturn\u001b[39;00m \u001b[38;5;28;01mNone\u001b[39;00m\n",
      "File \u001b[0;32m~/.local/lib/python3.10/site-packages/anndata/experimental/_dispatch_io.py:48\u001b[0m, in \u001b[0;36mread_dispatched\u001b[0;34m(elem, callback)\u001b[0m\n\u001b[1;32m     44\u001b[0m \u001b[38;5;28;01mfrom\u001b[39;00m \u001b[38;5;21;01manndata\u001b[39;00m\u001b[38;5;21;01m.\u001b[39;00m\u001b[38;5;21;01m_io\u001b[39;00m\u001b[38;5;21;01m.\u001b[39;00m\u001b[38;5;21;01mspecs\u001b[39;00m \u001b[38;5;28;01mimport\u001b[39;00m _REGISTRY, Reader\n\u001b[1;32m     46\u001b[0m reader \u001b[38;5;241m=\u001b[39m Reader(_REGISTRY, callback\u001b[38;5;241m=\u001b[39mcallback)\n\u001b[0;32m---> 48\u001b[0m \u001b[38;5;28;01mreturn\u001b[39;00m \u001b[43mreader\u001b[49m\u001b[38;5;241;43m.\u001b[39;49m\u001b[43mread_elem\u001b[49m\u001b[43m(\u001b[49m\u001b[43melem\u001b[49m\u001b[43m)\u001b[49m\n",
      "File \u001b[0;32m~/.local/lib/python3.10/site-packages/anndata/_io/utils.py:207\u001b[0m, in \u001b[0;36mreport_read_key_on_error.<locals>.func_wrapper\u001b[0;34m(*args, **kwargs)\u001b[0m\n\u001b[1;32m    205\u001b[0m     \u001b[38;5;28;01mraise\u001b[39;00m \u001b[38;5;167;01mValueError\u001b[39;00m(\u001b[38;5;124m\"\u001b[39m\u001b[38;5;124mNo element found in args.\u001b[39m\u001b[38;5;124m\"\u001b[39m)\n\u001b[1;32m    206\u001b[0m \u001b[38;5;28;01mtry\u001b[39;00m:\n\u001b[0;32m--> 207\u001b[0m     \u001b[38;5;28;01mreturn\u001b[39;00m \u001b[43mfunc\u001b[49m\u001b[43m(\u001b[49m\u001b[38;5;241;43m*\u001b[39;49m\u001b[43margs\u001b[49m\u001b[43m,\u001b[49m\u001b[43m \u001b[49m\u001b[38;5;241;43m*\u001b[39;49m\u001b[38;5;241;43m*\u001b[39;49m\u001b[43mkwargs\u001b[49m\u001b[43m)\u001b[49m\n\u001b[1;32m    208\u001b[0m \u001b[38;5;28;01mexcept\u001b[39;00m \u001b[38;5;167;01mException\u001b[39;00m \u001b[38;5;28;01mas\u001b[39;00m e:\n\u001b[1;32m    209\u001b[0m     path, key \u001b[38;5;241m=\u001b[39m _get_display_path(store)\u001b[38;5;241m.\u001b[39mrsplit(\u001b[38;5;124m\"\u001b[39m\u001b[38;5;124m/\u001b[39m\u001b[38;5;124m\"\u001b[39m, \u001b[38;5;241m1\u001b[39m)\n",
      "File \u001b[0;32m~/.local/lib/python3.10/site-packages/anndata/_io/specs/registry.py:256\u001b[0m, in \u001b[0;36mReader.read_elem\u001b[0;34m(self, elem, modifiers)\u001b[0m\n\u001b[1;32m    254\u001b[0m \u001b[38;5;28;01mif\u001b[39;00m \u001b[38;5;28mself\u001b[39m\u001b[38;5;241m.\u001b[39mcallback \u001b[38;5;129;01mis\u001b[39;00m \u001b[38;5;28;01mNone\u001b[39;00m:\n\u001b[1;32m    255\u001b[0m     \u001b[38;5;28;01mreturn\u001b[39;00m read_func(elem)\n\u001b[0;32m--> 256\u001b[0m \u001b[38;5;28;01mreturn\u001b[39;00m \u001b[38;5;28;43mself\u001b[39;49m\u001b[38;5;241;43m.\u001b[39;49m\u001b[43mcallback\u001b[49m\u001b[43m(\u001b[49m\u001b[43mread_func\u001b[49m\u001b[43m,\u001b[49m\u001b[43m \u001b[49m\u001b[43melem\u001b[49m\u001b[38;5;241;43m.\u001b[39;49m\u001b[43mname\u001b[49m\u001b[43m,\u001b[49m\u001b[43m \u001b[49m\u001b[43melem\u001b[49m\u001b[43m,\u001b[49m\u001b[43m \u001b[49m\u001b[43miospec\u001b[49m\u001b[38;5;241;43m=\u001b[39;49m\u001b[43miospec\u001b[49m\u001b[43m)\u001b[49m\n",
      "File \u001b[0;32m~/.local/lib/python3.10/site-packages/anndata/_io/h5ad.py:259\u001b[0m, in \u001b[0;36mread_h5ad.<locals>.callback\u001b[0;34m(func, elem_name, elem, iospec)\u001b[0m\n\u001b[1;32m    256\u001b[0m \u001b[38;5;28;01melif\u001b[39;00m elem_name \u001b[38;5;129;01min\u001b[39;00m {\u001b[38;5;124m\"\u001b[39m\u001b[38;5;124m/obs\u001b[39m\u001b[38;5;124m\"\u001b[39m, \u001b[38;5;124m\"\u001b[39m\u001b[38;5;124m/var\u001b[39m\u001b[38;5;124m\"\u001b[39m}:\n\u001b[1;32m    257\u001b[0m     \u001b[38;5;66;03m# Backwards compat\u001b[39;00m\n\u001b[1;32m    258\u001b[0m     \u001b[38;5;28;01mreturn\u001b[39;00m read_dataframe(elem)\n\u001b[0;32m--> 259\u001b[0m \u001b[38;5;28;01mreturn\u001b[39;00m \u001b[43mfunc\u001b[49m\u001b[43m(\u001b[49m\u001b[43melem\u001b[49m\u001b[43m)\u001b[49m\n",
      "File \u001b[0;32m~/.local/lib/python3.10/site-packages/anndata/_io/specs/methods.py:304\u001b[0m, in \u001b[0;36mread_mapping\u001b[0;34m(elem, _reader)\u001b[0m\n\u001b[1;32m    301\u001b[0m \u001b[38;5;129m@_REGISTRY\u001b[39m\u001b[38;5;241m.\u001b[39mregister_read(H5Group, IOSpec(\u001b[38;5;124m\"\u001b[39m\u001b[38;5;124mdict\u001b[39m\u001b[38;5;124m\"\u001b[39m, \u001b[38;5;124m\"\u001b[39m\u001b[38;5;124m0.1.0\u001b[39m\u001b[38;5;124m\"\u001b[39m))\n\u001b[1;32m    302\u001b[0m \u001b[38;5;129m@_REGISTRY\u001b[39m\u001b[38;5;241m.\u001b[39mregister_read(ZarrGroup, IOSpec(\u001b[38;5;124m\"\u001b[39m\u001b[38;5;124mdict\u001b[39m\u001b[38;5;124m\"\u001b[39m, \u001b[38;5;124m\"\u001b[39m\u001b[38;5;124m0.1.0\u001b[39m\u001b[38;5;124m\"\u001b[39m))\n\u001b[1;32m    303\u001b[0m \u001b[38;5;28;01mdef\u001b[39;00m \u001b[38;5;21mread_mapping\u001b[39m(elem, _reader):\n\u001b[0;32m--> 304\u001b[0m     \u001b[38;5;28;01mreturn\u001b[39;00m {k: _reader\u001b[38;5;241m.\u001b[39mread_elem(v) \u001b[38;5;28;01mfor\u001b[39;00m k, v \u001b[38;5;129;01min\u001b[39;00m elem\u001b[38;5;241m.\u001b[39mitems()}\n",
      "File \u001b[0;32m~/.local/lib/python3.10/site-packages/anndata/_io/specs/methods.py:304\u001b[0m, in \u001b[0;36m<dictcomp>\u001b[0;34m(.0)\u001b[0m\n\u001b[1;32m    301\u001b[0m \u001b[38;5;129m@_REGISTRY\u001b[39m\u001b[38;5;241m.\u001b[39mregister_read(H5Group, IOSpec(\u001b[38;5;124m\"\u001b[39m\u001b[38;5;124mdict\u001b[39m\u001b[38;5;124m\"\u001b[39m, \u001b[38;5;124m\"\u001b[39m\u001b[38;5;124m0.1.0\u001b[39m\u001b[38;5;124m\"\u001b[39m))\n\u001b[1;32m    302\u001b[0m \u001b[38;5;129m@_REGISTRY\u001b[39m\u001b[38;5;241m.\u001b[39mregister_read(ZarrGroup, IOSpec(\u001b[38;5;124m\"\u001b[39m\u001b[38;5;124mdict\u001b[39m\u001b[38;5;124m\"\u001b[39m, \u001b[38;5;124m\"\u001b[39m\u001b[38;5;124m0.1.0\u001b[39m\u001b[38;5;124m\"\u001b[39m))\n\u001b[1;32m    303\u001b[0m \u001b[38;5;28;01mdef\u001b[39;00m \u001b[38;5;21mread_mapping\u001b[39m(elem, _reader):\n\u001b[0;32m--> 304\u001b[0m     \u001b[38;5;28;01mreturn\u001b[39;00m {k: \u001b[43m_reader\u001b[49m\u001b[38;5;241;43m.\u001b[39;49m\u001b[43mread_elem\u001b[49m\u001b[43m(\u001b[49m\u001b[43mv\u001b[49m\u001b[43m)\u001b[49m \u001b[38;5;28;01mfor\u001b[39;00m k, v \u001b[38;5;129;01min\u001b[39;00m elem\u001b[38;5;241m.\u001b[39mitems()}\n",
      "File \u001b[0;32m~/.local/lib/python3.10/site-packages/anndata/_io/utils.py:207\u001b[0m, in \u001b[0;36mreport_read_key_on_error.<locals>.func_wrapper\u001b[0;34m(*args, **kwargs)\u001b[0m\n\u001b[1;32m    205\u001b[0m     \u001b[38;5;28;01mraise\u001b[39;00m \u001b[38;5;167;01mValueError\u001b[39;00m(\u001b[38;5;124m\"\u001b[39m\u001b[38;5;124mNo element found in args.\u001b[39m\u001b[38;5;124m\"\u001b[39m)\n\u001b[1;32m    206\u001b[0m \u001b[38;5;28;01mtry\u001b[39;00m:\n\u001b[0;32m--> 207\u001b[0m     \u001b[38;5;28;01mreturn\u001b[39;00m \u001b[43mfunc\u001b[49m\u001b[43m(\u001b[49m\u001b[38;5;241;43m*\u001b[39;49m\u001b[43margs\u001b[49m\u001b[43m,\u001b[49m\u001b[43m \u001b[49m\u001b[38;5;241;43m*\u001b[39;49m\u001b[38;5;241;43m*\u001b[39;49m\u001b[43mkwargs\u001b[49m\u001b[43m)\u001b[49m\n\u001b[1;32m    208\u001b[0m \u001b[38;5;28;01mexcept\u001b[39;00m \u001b[38;5;167;01mException\u001b[39;00m \u001b[38;5;28;01mas\u001b[39;00m e:\n\u001b[1;32m    209\u001b[0m     path, key \u001b[38;5;241m=\u001b[39m _get_display_path(store)\u001b[38;5;241m.\u001b[39mrsplit(\u001b[38;5;124m\"\u001b[39m\u001b[38;5;124m/\u001b[39m\u001b[38;5;124m\"\u001b[39m, \u001b[38;5;241m1\u001b[39m)\n",
      "File \u001b[0;32m~/.local/lib/python3.10/site-packages/anndata/_io/specs/registry.py:256\u001b[0m, in \u001b[0;36mReader.read_elem\u001b[0;34m(self, elem, modifiers)\u001b[0m\n\u001b[1;32m    254\u001b[0m \u001b[38;5;28;01mif\u001b[39;00m \u001b[38;5;28mself\u001b[39m\u001b[38;5;241m.\u001b[39mcallback \u001b[38;5;129;01mis\u001b[39;00m \u001b[38;5;28;01mNone\u001b[39;00m:\n\u001b[1;32m    255\u001b[0m     \u001b[38;5;28;01mreturn\u001b[39;00m read_func(elem)\n\u001b[0;32m--> 256\u001b[0m \u001b[38;5;28;01mreturn\u001b[39;00m \u001b[38;5;28;43mself\u001b[39;49m\u001b[38;5;241;43m.\u001b[39;49m\u001b[43mcallback\u001b[49m\u001b[43m(\u001b[49m\u001b[43mread_func\u001b[49m\u001b[43m,\u001b[49m\u001b[43m \u001b[49m\u001b[43melem\u001b[49m\u001b[38;5;241;43m.\u001b[39;49m\u001b[43mname\u001b[49m\u001b[43m,\u001b[49m\u001b[43m \u001b[49m\u001b[43melem\u001b[49m\u001b[43m,\u001b[49m\u001b[43m \u001b[49m\u001b[43miospec\u001b[49m\u001b[38;5;241;43m=\u001b[39;49m\u001b[43miospec\u001b[49m\u001b[43m)\u001b[49m\n",
      "File \u001b[0;32m~/.local/lib/python3.10/site-packages/anndata/_io/h5ad.py:259\u001b[0m, in \u001b[0;36mread_h5ad.<locals>.callback\u001b[0;34m(func, elem_name, elem, iospec)\u001b[0m\n\u001b[1;32m    256\u001b[0m \u001b[38;5;28;01melif\u001b[39;00m elem_name \u001b[38;5;129;01min\u001b[39;00m {\u001b[38;5;124m\"\u001b[39m\u001b[38;5;124m/obs\u001b[39m\u001b[38;5;124m\"\u001b[39m, \u001b[38;5;124m\"\u001b[39m\u001b[38;5;124m/var\u001b[39m\u001b[38;5;124m\"\u001b[39m}:\n\u001b[1;32m    257\u001b[0m     \u001b[38;5;66;03m# Backwards compat\u001b[39;00m\n\u001b[1;32m    258\u001b[0m     \u001b[38;5;28;01mreturn\u001b[39;00m read_dataframe(elem)\n\u001b[0;32m--> 259\u001b[0m \u001b[38;5;28;01mreturn\u001b[39;00m \u001b[43mfunc\u001b[49m\u001b[43m(\u001b[49m\u001b[43melem\u001b[49m\u001b[43m)\u001b[49m\n",
      "File \u001b[0;32m~/.local/lib/python3.10/site-packages/anndata/_io/specs/methods.py:617\u001b[0m, in \u001b[0;36mread_sparse\u001b[0;34m(elem, _reader)\u001b[0m\n\u001b[1;32m    612\u001b[0m \u001b[38;5;129m@_REGISTRY\u001b[39m\u001b[38;5;241m.\u001b[39mregister_read(H5Group, IOSpec(\u001b[38;5;124m\"\u001b[39m\u001b[38;5;124mcsc_matrix\u001b[39m\u001b[38;5;124m\"\u001b[39m, \u001b[38;5;124m\"\u001b[39m\u001b[38;5;124m0.1.0\u001b[39m\u001b[38;5;124m\"\u001b[39m))\n\u001b[1;32m    613\u001b[0m \u001b[38;5;129m@_REGISTRY\u001b[39m\u001b[38;5;241m.\u001b[39mregister_read(H5Group, IOSpec(\u001b[38;5;124m\"\u001b[39m\u001b[38;5;124mcsr_matrix\u001b[39m\u001b[38;5;124m\"\u001b[39m, \u001b[38;5;124m\"\u001b[39m\u001b[38;5;124m0.1.0\u001b[39m\u001b[38;5;124m\"\u001b[39m))\n\u001b[1;32m    614\u001b[0m \u001b[38;5;129m@_REGISTRY\u001b[39m\u001b[38;5;241m.\u001b[39mregister_read(ZarrGroup, IOSpec(\u001b[38;5;124m\"\u001b[39m\u001b[38;5;124mcsc_matrix\u001b[39m\u001b[38;5;124m\"\u001b[39m, \u001b[38;5;124m\"\u001b[39m\u001b[38;5;124m0.1.0\u001b[39m\u001b[38;5;124m\"\u001b[39m))\n\u001b[1;32m    615\u001b[0m \u001b[38;5;129m@_REGISTRY\u001b[39m\u001b[38;5;241m.\u001b[39mregister_read(ZarrGroup, IOSpec(\u001b[38;5;124m\"\u001b[39m\u001b[38;5;124mcsr_matrix\u001b[39m\u001b[38;5;124m\"\u001b[39m, \u001b[38;5;124m\"\u001b[39m\u001b[38;5;124m0.1.0\u001b[39m\u001b[38;5;124m\"\u001b[39m))\n\u001b[1;32m    616\u001b[0m \u001b[38;5;28;01mdef\u001b[39;00m \u001b[38;5;21mread_sparse\u001b[39m(elem, _reader):\n\u001b[0;32m--> 617\u001b[0m     \u001b[38;5;28;01mreturn\u001b[39;00m \u001b[43msparse_dataset\u001b[49m\u001b[43m(\u001b[49m\u001b[43melem\u001b[49m\u001b[43m)\u001b[49m\u001b[38;5;241;43m.\u001b[39;49m\u001b[43mto_memory\u001b[49m\u001b[43m(\u001b[49m\u001b[43m)\u001b[49m\n",
      "File \u001b[0;32m~/.local/lib/python3.10/site-packages/anndata/_core/sparse_dataset.py:574\u001b[0m, in \u001b[0;36mBaseCompressedSparseDataset.to_memory\u001b[0;34m(self)\u001b[0m\n\u001b[1;32m    572\u001b[0m format_class \u001b[38;5;241m=\u001b[39m get_memory_class(\u001b[38;5;28mself\u001b[39m\u001b[38;5;241m.\u001b[39mformat)\n\u001b[1;32m    573\u001b[0m mtx \u001b[38;5;241m=\u001b[39m format_class(\u001b[38;5;28mself\u001b[39m\u001b[38;5;241m.\u001b[39mshape, dtype\u001b[38;5;241m=\u001b[39m\u001b[38;5;28mself\u001b[39m\u001b[38;5;241m.\u001b[39mdtype)\n\u001b[0;32m--> 574\u001b[0m mtx\u001b[38;5;241m.\u001b[39mdata \u001b[38;5;241m=\u001b[39m \u001b[38;5;28;43mself\u001b[39;49m\u001b[38;5;241;43m.\u001b[39;49m\u001b[43mgroup\u001b[49m\u001b[43m[\u001b[49m\u001b[38;5;124;43m\"\u001b[39;49m\u001b[38;5;124;43mdata\u001b[39;49m\u001b[38;5;124;43m\"\u001b[39;49m\u001b[43m]\u001b[49m\u001b[43m[\u001b[49m\u001b[38;5;241;43m.\u001b[39;49m\u001b[38;5;241;43m.\u001b[39;49m\u001b[38;5;241;43m.\u001b[39;49m\u001b[43m]\u001b[49m\n\u001b[1;32m    575\u001b[0m mtx\u001b[38;5;241m.\u001b[39mindices \u001b[38;5;241m=\u001b[39m \u001b[38;5;28mself\u001b[39m\u001b[38;5;241m.\u001b[39mgroup[\u001b[38;5;124m\"\u001b[39m\u001b[38;5;124mindices\u001b[39m\u001b[38;5;124m\"\u001b[39m][\u001b[38;5;241m.\u001b[39m\u001b[38;5;241m.\u001b[39m\u001b[38;5;241m.\u001b[39m]\n\u001b[1;32m    576\u001b[0m mtx\u001b[38;5;241m.\u001b[39mindptr \u001b[38;5;241m=\u001b[39m \u001b[38;5;28mself\u001b[39m\u001b[38;5;241m.\u001b[39mindptr\n",
      "File \u001b[0;32mh5py/_objects.pyx:54\u001b[0m, in \u001b[0;36mh5py._objects.with_phil.wrapper\u001b[0;34m()\u001b[0m\n",
      "File \u001b[0;32mh5py/_objects.pyx:55\u001b[0m, in \u001b[0;36mh5py._objects.with_phil.wrapper\u001b[0;34m()\u001b[0m\n",
      "File \u001b[0;32m~/.local/lib/python3.10/site-packages/h5py/_hl/dataset.py:758\u001b[0m, in \u001b[0;36mDataset.__getitem__\u001b[0;34m(self, args, new_dtype)\u001b[0m\n\u001b[1;32m    756\u001b[0m \u001b[38;5;28;01mif\u001b[39;00m \u001b[38;5;28mself\u001b[39m\u001b[38;5;241m.\u001b[39m_fast_read_ok \u001b[38;5;129;01mand\u001b[39;00m (new_dtype \u001b[38;5;129;01mis\u001b[39;00m \u001b[38;5;28;01mNone\u001b[39;00m):\n\u001b[1;32m    757\u001b[0m     \u001b[38;5;28;01mtry\u001b[39;00m:\n\u001b[0;32m--> 758\u001b[0m         \u001b[38;5;28;01mreturn\u001b[39;00m \u001b[38;5;28;43mself\u001b[39;49m\u001b[38;5;241;43m.\u001b[39;49m\u001b[43m_fast_reader\u001b[49m\u001b[38;5;241;43m.\u001b[39;49m\u001b[43mread\u001b[49m\u001b[43m(\u001b[49m\u001b[43margs\u001b[49m\u001b[43m)\u001b[49m\n\u001b[1;32m    759\u001b[0m     \u001b[38;5;28;01mexcept\u001b[39;00m \u001b[38;5;167;01mTypeError\u001b[39;00m:\n\u001b[1;32m    760\u001b[0m         \u001b[38;5;28;01mpass\u001b[39;00m  \u001b[38;5;66;03m# Fall back to Python read pathway below\u001b[39;00m\n",
      "\u001b[0;31mKeyboardInterrupt\u001b[0m: "
     ]
    }
   ],
   "source": [
    "adata = sc.read_h5ad(f'../IGVF_analysis/cellbender_tissues/processed/{tissue}_processed_subclustered_res0.1.h5ad')\n",
    "\n"
   ]
  },
  {
   "cell_type": "code",
   "execution_count": null,
   "id": "b1df000f-f5e9-41c7-a47d-bb78eaae3b6c",
   "metadata": {},
   "outputs": [],
   "source": [
    "adata"
   ]
  },
  {
   "cell_type": "code",
   "execution_count": null,
   "id": "082e3c88-7e80-42e6-bc2a-2aa9e4a9373d",
   "metadata": {},
   "outputs": [],
   "source": [
    "adata.obs.head()"
   ]
  },
  {
   "cell_type": "code",
   "execution_count": null,
   "id": "367aaf02-ed28-4150-8ec0-10954a55fa65",
   "metadata": {},
   "outputs": [],
   "source": [
    "adata.var.head()"
   ]
  },
  {
   "cell_type": "code",
   "execution_count": null,
   "id": "23c594d0-ccd0-4aae-8c25-4468c7243359",
   "metadata": {},
   "outputs": [],
   "source": [
    "def stacked_barplot_proportions(adata, cluster_key, var_key, fsize=(12, 6), annotations=True, reverse_order=False, custom_order=None, custom_colors=None):\n",
    "    colors = sns.color_palette(\"husl\", n_colors=len(adata[var_key].unique()))\n",
    "\n",
    "    # Group the data by 'cluster_key' and 'var_key', count occurrences, and calculate proportions\n",
    "    grouped_data = adata.groupby([cluster_key, var_key]).size().unstack().fillna(0)\n",
    "    proportions = grouped_data.div(grouped_data.sum(axis=1), axis=0)\n",
    "\n",
    "    # Apply custom order if provided\n",
    "    if custom_order:\n",
    "        proportions = proportions.loc[custom_order]\n",
    "    if custom_colors:\n",
    "        colors = custom_colors\n",
    "\n",
    "    # Reverse the order of the DataFrame if reverse_order is True\n",
    "    if reverse_order:\n",
    "        proportions = proportions.iloc[::-1]\n",
    "        m = adata.groupby([cluster_key]).size().to_frame().iloc[::-1]\n",
    "    else:\n",
    "        m = adata.groupby([cluster_key]).size().to_frame()\n",
    "\n",
    "    #sns.set_style('white')\n",
    "    # Create the stacked bar plot\n",
    "    ax = proportions.plot(kind='barh', color=colors, stacked=True, figsize=fsize, width=0.8, edgecolor=None)\n",
    "\n",
    "    if annotations:\n",
    "        for i, txt in enumerate(m[0]):\n",
    "            ax.text(0.875, i, txt, fontsize=14, va='center', transform=ax.get_yaxis_transform())\n",
    "\n",
    "    plt.xlim(0, 1.15)\n",
    "    ax.tick_params(axis=\"x\", labelsize=14)\n",
    "    ax.tick_params(axis=\"y\", labelsize=14)\n",
    "    ax.set_xlabel(\"Proportion\")\n",
    "    ax.set_ylabel(cluster_key)\n",
    "    ax.set_title(f'{var_key} by {cluster_key}')\n",
    "\n",
    "    if annotations:\n",
    "        ax.legend(title=var_key, bbox_to_anchor=(1.05, 1), loc='upper left')\n",
    "    else:\n",
    "        ax.get_legend().remove()\n",
    "\n",
    "    ax.grid(False)\n",
    "    \n",
    "    plt.show()"
   ]
  },
  {
   "cell_type": "code",
   "execution_count": null,
   "id": "d4a318ab-03be-4ac4-82c2-bec86a16fda8",
   "metadata": {},
   "outputs": [],
   "source": [
    "stacked_barplot_proportions(adata.obs, \n",
    "                            'leiden_R', 'Sex',\n",
    "                            reverse_order = True,\n",
    "                            fsize = (6.5,15), \n",
    "                            custom_colors = sex_palette,\n",
    "                            annotations = True)\n"
   ]
  },
  {
   "cell_type": "code",
   "execution_count": null,
   "id": "3a4d13af-fc42-4d01-9a18-269d61d92e73",
   "metadata": {},
   "outputs": [],
   "source": [
    "stacked_barplot_proportions(adata.obs, \n",
    "                            'leiden_R', 'Genotype',\n",
    "                            reverse_order = True,\n",
    "                            fsize = (6.5,15), \n",
    "                            custom_colors = geno_palette,\n",
    "                            annotations = True)\n"
   ]
  },
  {
   "cell_type": "code",
   "execution_count": null,
   "id": "0eeea14b-73d3-401b-bf9f-27eadf855806",
   "metadata": {},
   "outputs": [],
   "source": [
    "stacked_barplot_proportions(adata.obs, \n",
    "                            'leiden_R', 'plate',\n",
    "                            reverse_order = True,\n",
    "                            fsize = (6.5,15), \n",
    "                            custom_colors = plate_palette,\n",
    "                            annotations = True)\n"
   ]
  },
  {
   "cell_type": "code",
   "execution_count": null,
   "id": "aa7e7160-5a47-4774-bee8-67019b4ed58b",
   "metadata": {},
   "outputs": [],
   "source": [
    "marker_genes_dict = {\n",
    "    \"Endothelial\": [\"Flt1\",\"Pecam1\"],\n",
    "    \"Pericyte\": [\"Vtn\"],\n",
    "    \"Fibroblast\": [\"Bnc2\",\"Fbxl7\"],\n",
    "    \"VLMC1\": [\"Dcn\"],\n",
    "    \"VLMC2\": ['Egfr','Tbx15','Rspo3','Slc26a7'],\n",
    "    \"Epithelial\":[\"Kl\",\"Ttr\",\"Clic6\"], # http://mousebrain.org/celltypes/CHOR.html\n",
    "    \"Ependymal\":[\"Tmem212\",\"Dnah6\"],\n",
    "    \"Hypendymal\":['Spp2','Sspo'], # http://mousebrain.org/celltypes/HYPEN.html\n",
    "    \"Microglia\": [\"Cx3cr1\"],\n",
    "    \"Astrocyte\": [\"Gfap\",\"Clu\"],\n",
    "    \"Excitatory neuron, thalamus\": [\"Synpo2\",\"Prkcd\",\"Ramp3\",\"Ptpn3\",\"Shox2\"], #http://mousebrain.org/celltypes/DEGLU1.html\n",
    "    \"Cholinergic neurons, habenula\": ['Chat','Lrrc55','Tac2','Nwd2'],\n",
    "    \"Dopaminergic neuron, midbrain\": [\"Slc6a3\",\"En1\"], # http://mousebrain.org/celltypes/MBDOP2.html\n",
    "    \"GABAergic\": [\"Gad1\",\"Gad2\"],\n",
    "    \"OPC\": [\"Pdgfra\"],\n",
    "    \"COP\": [\"C1ql1\"],\n",
    "    \"MFOL\": [\"Mag\",\"Mog\"],\n",
    "    \"MOL\": [\"Plp1\"],\n",
    "    \"Corticotrope\": [\"Crhr1\",\"Tbx19\"],\n",
    "    \"Gonadotrope\": [\"Cga\",\"Fshb\",\"Nr5a1\"],\n",
    "    \"Lactotrope\": [\"Prl\",\"Greb1\",\"Agtr1a\"],\n",
    "    \"Melanotrope\": [\"Oacyl\",\"Pomc\",\"Esm1\"],\n",
    "    \"Tanycyte\": ['Col23a1','Rax','Lhx2','Prdx6','Ptn'],\n",
    "    \"Pituitary_stem\": [\"Rbpms\",\"Cyp2f2\",\"Sox2\",\"Aldh1a2\"],\n",
    "    \"Somatotrope\": [\"Gh\",\"Pappa2\"],\n",
    "    \"Thyrotrope\": [\"Tshb\",\"Dio2\"],\n",
    "    \"Cycling\": [\"Top2a\",\"Mki67\"],\n",
    "}\n"
   ]
  },
  {
   "cell_type": "code",
   "execution_count": null,
   "id": "0bb1c9e0-c7ad-4856-97b7-1b577c4eeaf0",
   "metadata": {},
   "outputs": [],
   "source": [
    "sc.pl.dotplot(adata, marker_genes_dict, 'leiden_R', mean_only_expressed = True,\n",
    "              dendrogram=True, log=True)\n"
   ]
  },
  {
   "cell_type": "code",
   "execution_count": null,
   "id": "00dcbf03-9f96-4c6c-9ad5-d60ed003df7e",
   "metadata": {},
   "outputs": [],
   "source": [
    "ctx_hc_marker_genes_dict = {\n",
    "    \"Endothelial\": [\"Flt1\"],\n",
    "    \"Pericyte\": [\"Vtn\"],\n",
    "    \"VLMC\": [\"Dcn\",'Slc6a13','Ptgds'], \n",
    "    \"ABC (type of VLMC)\": ['Mgp','Slc47a1','Dapl1','Bnc2'],\n",
    "    \"OEC\": ['Prss56'],\n",
    "    \"Epithelial\":[\"Kl\",\"Ttr\",\"Clic6\"],\n",
    "    \"Ependymal\":[\"Tmem212\",\"Dnah6\"],\n",
    "    \"Microglia\": [\"Cx3cr1\",\"Hexb\",\"Inpp5d\"],\n",
    "    \"Astrocyte\": [\"Gfap\",\"Clu\",\"Slc1a3\"],\n",
    "    \"Neuron\": [\"Mir124a-1hg\", \"Snap25\"],\n",
    "    \"Neuroblast\":[\"Igfbpl1\",\"Dlx2\",'Cdca7','Top2a'],\n",
    "    \"Dopaminergic neuron\": ['Slc18a2', 'Th'],\n",
    "    \"Glutamatergic neuron\": [\"Slc17a7\"],\n",
    "    \"Cajal-Retzius\": [\"Reln\"],\n",
    "    \"GABAergic neuron\": [\"Gad1\",\"Gad2\",],\n",
    "    \"Medium spiny neuron\" : [\"Drd1\",\"Drd2\",\"Ppp1r1b\",\"Adora2a\"],\n",
    "    \"Lamp5 GABAergic\": [\"Lamp5\"],\n",
    "    \"Vip GABAergic\": [\"Vip\"],\n",
    "    \"Sst GABAergic\": [\"Sst\"],\n",
    "    \"Pvalb GABAergic\": [\"Pvalb\"],\n",
    "    \"Car3\": [\"Car3\",\"Oprk1\"],\n",
    "    \"OPC\": [\"Pdgfra\",\"Cspg4\"],\n",
    "    \"COP\": [\"C1ql1\"],\n",
    "    \"MFOL\": [\"Mag\",\"Mog\",\"Mbp\"],\n",
    "    \"MOL\": [\"Plp1\"],\n",
    "    \"DG_early\": [\"Prox1\"],\n",
    "    \"DG\": [\"Calb1\"],\n",
    "    \"Heart\": [\"Ryr1\",\"Gata4\"],\n",
    "    \"Gastrocnemius\": [\"Myh4\",\"Ttn\"]\n",
    "}"
   ]
  },
  {
   "cell_type": "code",
   "execution_count": null,
   "id": "9eee2eb1-745e-4b76-90da-c5c38aa23a6c",
   "metadata": {},
   "outputs": [],
   "source": [
    "sc.pl.dotplot(adata, ctx_hc_marker_genes_dict, 'leiden_R', mean_only_expressed = True,\n",
    "              dendrogram=True, log=True)\n"
   ]
  },
  {
   "cell_type": "code",
   "execution_count": null,
   "id": "15344907-1559-42e8-a433-8a37ee712f36",
   "metadata": {},
   "outputs": [],
   "source": [
    "plt.rcParams['figure.figsize'] = (16, 6)\n",
    "\n",
    "sc.pl.violin(adata, ['pct_counts_mt_cb', 'doublet_score', 'total_counts_raw', 'n_genes_by_counts_cb'],\n",
    "             groupby = \"leiden_R\", \n",
    "             jitter=0.4, multi_panel=True, size=0)"
   ]
  },
  {
   "cell_type": "code",
   "execution_count": null,
   "id": "25b5e2ba-6828-45e8-a1bb-7c357a55ba91",
   "metadata": {},
   "outputs": [],
   "source": [
    "plt.rcParams['figure.figsize'] = (8, 6)\n",
    "\n",
    "sc.pl.violin(adata, ['pct_counts_mt_cb', 'doublet_score', 'total_counts_raw', 'n_genes_by_counts_cb'],\n",
    "             groupby = \"plate\", \n",
    "             jitter=0.4, multi_panel=True, size=0)"
   ]
  },
  {
   "cell_type": "code",
   "execution_count": null,
   "id": "0c863c7b-dabe-47af-9155-6389f67e81de",
   "metadata": {},
   "outputs": [],
   "source": [
    "plt.rcParams['figure.figsize'] = (8, 8)\n"
   ]
  },
  {
   "cell_type": "code",
   "execution_count": null,
   "id": "3d9edc68-4548-4d79-8678-a12b9b29728b",
   "metadata": {},
   "outputs": [],
   "source": [
    "sc.pl.umap(adata, color=['leiden_R'], size=1, legend_fontsize = 10, legend_loc = 'on data')\n"
   ]
  },
  {
   "cell_type": "code",
   "execution_count": null,
   "id": "d5578ab0-e6d4-4885-b17e-91000f72a890",
   "metadata": {},
   "outputs": [],
   "source": [
    "sc.pl.umap(adata, color=['Genotype'], size = 0.8, palette = geno_palette)\n"
   ]
  },
  {
   "cell_type": "code",
   "execution_count": null,
   "id": "6e7e07e8-770e-4dca-9e7c-154f39df444c",
   "metadata": {},
   "outputs": [],
   "source": [
    "sc.pl.umap(adata, color=['plate'], size = 0.8, palette = plate_palette)\n"
   ]
  },
  {
   "cell_type": "code",
   "execution_count": null,
   "id": "d68f9094-b08b-4eae-8d94-d50028e2e643",
   "metadata": {},
   "outputs": [],
   "source": [
    "sc.pl.umap(adata, color=['Sex'], size = 0.8, palette = sex_palette)\n"
   ]
  },
  {
   "cell_type": "code",
   "execution_count": null,
   "id": "65c6f47f-2d25-44cd-9890-e5fd56006c72",
   "metadata": {},
   "outputs": [],
   "source": [
    "adata"
   ]
  },
  {
   "cell_type": "code",
   "execution_count": null,
   "id": "1e336d1a-a448-4904-abc9-657b92cdb8f3",
   "metadata": {},
   "outputs": [],
   "source": [
    "plt.rcParams['figure.figsize'] = (8, 8)\n"
   ]
  },
  {
   "cell_type": "code",
   "execution_count": null,
   "id": "6c9796dc-20fd-4165-9f82-a8837cedeb8b",
   "metadata": {},
   "outputs": [],
   "source": [
    "sc.pl.umap(adata, color=['pct_counts_mt_cb','doublet_score'], size = 0.8, palette = plate_palette)\n"
   ]
  },
  {
   "cell_type": "code",
   "execution_count": null,
   "id": "df5c8b98-4c62-4071-a0da-d824a300804c",
   "metadata": {},
   "outputs": [],
   "source": [
    "sc.pl.umap(adata, color=['Slc17a7','Gad2','Snap25'], size = 0.8, palette = plate_palette)\n"
   ]
  },
  {
   "cell_type": "code",
   "execution_count": null,
   "id": "b1e1fbc8-447a-48b7-9e45-3c35c3cb73da",
   "metadata": {},
   "outputs": [],
   "source": [
    "adata"
   ]
  },
  {
   "cell_type": "code",
   "execution_count": null,
   "id": "79afeed1-cb18-49b0-92d5-a501f4269592",
   "metadata": {},
   "outputs": [],
   "source": [
    "old_annots = pd.read_csv(f'../IGVF_analysis/annotated_tissues/HypothalamusPituitary_annotated_metadata.csv')\n",
    "old_annots['subpool'] = old_annots['subpool'].str.replace(r'Sublibrary_(\\d+)', r'Subpool_\\1', regex=True)\n",
    "\n",
    "subpool_mapping = {\n",
    "    \"13A\": \"Subpool_1\",\n",
    "    \"13B\": \"Subpool_2\",\n",
    "    \"13C\": \"Subpool_3\",\n",
    "    \"13D\": \"Subpool_4\",\n",
    "    \"13E\": \"Subpool_5\",\n",
    "    \"13F\": \"Subpool_6\",\n",
    "    \"13G\": \"Subpool_7\",\n",
    "    \"13H\": \"Subpool_8\"\n",
    "}\n",
    "\n",
    "# Update the subpool column for the specified plate\n",
    "old_annots.loc[old_annots['plate'] == 'igvf_012', 'subpool'] = (\n",
    "    old_annots['subpool'].map(subpool_mapping)\n",
    ")\n",
    "\n",
    "\n",
    "old_annots['cellID'] = old_annots['bc1_well'] + \"_\" + old_annots['bc2_well'] + \"_\" + old_annots['bc3_well'] + \"_\" + old_annots['subpool']  + \"_\" + old_annots['plate'] \n",
    "\n"
   ]
  },
  {
   "cell_type": "code",
   "execution_count": null,
   "id": "8f540ab8-f64a-4d9e-8ab4-1ebe58a190e4",
   "metadata": {},
   "outputs": [],
   "source": [
    "new_cells = adata.obs.index.tolist()\n",
    "old_cells = old_annots['cellID'].tolist()\n",
    "\n",
    "new_cells_series = pd.Series(new_cells)\n",
    "old_cells_series = pd.Series(old_cells)\n",
    "\n",
    "\n",
    "old_in_new = old_cells_series.isin(new_cells)\n",
    "new_in_old = new_cells_series.isin(old_cells)\n",
    "\n",
    "\n",
    "old_not_in_new = old_cells_series[~old_in_new]\n",
    "new_not_in_old = new_cells_series[~new_in_old]\n",
    "\n",
    "print(f\"Number of old_cells not in new_cells: {len(old_not_in_new)}\")\n",
    "\n",
    "print(f\"Number of new_cells not in old_cells: {len(new_not_in_old)}\")\n"
   ]
  },
  {
   "cell_type": "code",
   "execution_count": null,
   "id": "3fd3425a-fbf5-431f-8980-4fd04d5f9ef2",
   "metadata": {},
   "outputs": [],
   "source": [
    "old_annots.set_index('cellID', inplace=True)\n",
    "transfer_df = old_annots[['subtype', 'celltype']]\n",
    "\n",
    "adata_obs = adata.obs.copy()\n",
    "\n",
    "# Merge the dataframes, adding the 'subtype' and 'celltype' columns to adata.obs\n",
    "adata_obs = adata_obs.join(transfer_df, how='left')\n"
   ]
  },
  {
   "cell_type": "code",
   "execution_count": null,
   "id": "cbae3ad3-6a86-4a34-9057-2a1ca1310d45",
   "metadata": {},
   "outputs": [],
   "source": [
    "# Ensure missing values are explicitly set as NA\n",
    "adata_obs['subtype'].fillna(value=\"NA\", inplace=True)\n",
    "adata_obs['celltype'].fillna(value=\"NA\", inplace=True)"
   ]
  },
  {
   "cell_type": "code",
   "execution_count": null,
   "id": "957b3636-69a6-440c-9442-f4420b7ace07",
   "metadata": {},
   "outputs": [],
   "source": [
    "adata_obs.head()"
   ]
  },
  {
   "cell_type": "code",
   "execution_count": null,
   "id": "8504ab71-ec08-43c0-9ac3-bda21fd8e5e6",
   "metadata": {},
   "outputs": [],
   "source": [
    "adata.obs['celltype_carryover'] = adata_obs['celltype']\n",
    "adata.obs['subtype_carryover'] = adata_obs['subtype']"
   ]
  },
  {
   "cell_type": "code",
   "execution_count": null,
   "id": "5dfc4254-f086-41a5-b9ec-057d285b6786",
   "metadata": {},
   "outputs": [],
   "source": [
    "sc.pl.umap(adata, color=['subtype_carryover'], size = 1, legend_fontsize = 14, legend_loc = \"on data\")\n"
   ]
  },
  {
   "cell_type": "code",
   "execution_count": null,
   "id": "8b6a154a-dc33-4126-8a6c-47b81bf4e109",
   "metadata": {},
   "outputs": [],
   "source": [
    "# Plot UMAP\n",
    "ax = sc.pl.umap(adata, color=['subtype_carryover'], size=1, legend_fontsize=20, show=False)\n",
    "handles, labels = ax.get_legend_handles_labels()\n",
    "plt.legend(handles, labels, loc='center left', bbox_to_anchor=(1, 0.5), markerscale=2, fontsize=20, ncol=2)\n",
    "plt.show()"
   ]
  },
  {
   "cell_type": "code",
   "execution_count": null,
   "id": "5eb01f19-5b34-420f-912c-1597a9b11ef9",
   "metadata": {},
   "outputs": [],
   "source": [
    "stacked_barplot_proportions(adata.obs, \n",
    "                            'leiden_R', 'subtype_carryover',\n",
    "                            reverse_order = True,\n",
    "                            custom_colors = adata.uns[\"subtype_carryover_colors\"],\n",
    "                            fsize = (6.5,15), \n",
    "                            annotations = True)\n"
   ]
  },
  {
   "cell_type": "code",
   "execution_count": null,
   "id": "db4a0d9d-b11a-467f-b3b5-d2ac76875adf",
   "metadata": {},
   "outputs": [],
   "source": [
    "sc.pl.umap(adata, color=['leiden_R'], size=1, legend_fontsize = 20, legend_loc = 'on data')\n"
   ]
  },
  {
   "cell_type": "markdown",
   "id": "07e2702a-aeed-4f34-8186-fdd7ec169c8b",
   "metadata": {},
   "source": [
    "# Annotate"
   ]
  },
  {
   "cell_type": "code",
   "execution_count": null,
   "id": "cce1b509-17d3-4656-81e5-689e953e70cc",
   "metadata": {},
   "outputs": [],
   "source": [
    "annots = pd.read_csv(\"post_cellbender_annotations.csv\")\n",
    "annots = annots[annots['tissue'] == tissue]\n",
    "annots['leiden_R'] = annots['leiden_R'].astype(str)\n",
    "\n",
    "annotation_dict = annots.groupby('leiden_R').head(1).set_index('leiden_R')['general_celltype'].to_dict()\n",
    "adata.obs['general_celltype'] = adata.obs['leiden_R'].map(annotation_dict)\n",
    "annotation_dict = annots.groupby('leiden_R').head(1).set_index('leiden_R')['general_CL_ID'].to_dict()\n",
    "adata.obs['general_CL_ID'] = adata.obs['leiden_R'].map(annotation_dict)\n",
    "\n",
    "annotation_dict = annots.groupby('leiden_R').head(1).set_index('leiden_R')['celltype'].to_dict()\n",
    "adata.obs['celltype'] = adata.obs['leiden_R'].map(annotation_dict)\n",
    "annotation_dict = annots.groupby('leiden_R').head(1).set_index('leiden_R')['CL_ID'].to_dict()\n",
    "adata.obs['CL_ID'] = adata.obs['leiden_R'].map(annotation_dict)\n",
    "\n",
    "annotation_dict = annots.groupby('leiden_R').head(1).set_index('leiden_R')['subtype'].to_dict()\n",
    "adata.obs['subtype'] = adata.obs['leiden_R'].map(annotation_dict)\n"
   ]
  },
  {
   "cell_type": "code",
   "execution_count": null,
   "id": "dcc412a2-d63b-4c94-82ef-3b23b4677bea",
   "metadata": {},
   "outputs": [],
   "source": [
    "plt.rcParams['figure.figsize'] = (8, 8)\n"
   ]
  },
  {
   "cell_type": "code",
   "execution_count": null,
   "id": "dc799499-7551-42f9-8c2f-ca6b5bf83ff6",
   "metadata": {},
   "outputs": [],
   "source": [
    "sc.pl.umap(adata, color=['subtype'], size=1, legend_fontsize = 10, legend_loc = 'on data')\n"
   ]
  },
  {
   "cell_type": "code",
   "execution_count": null,
   "id": "b2ff4176-a5a5-4952-ad50-345b8ee3c43e",
   "metadata": {},
   "outputs": [],
   "source": [
    "sc.pl.umap(adata, color=['celltype'], size=1, legend_fontsize = 10, legend_loc = 'on data')\n"
   ]
  },
  {
   "cell_type": "code",
   "execution_count": null,
   "id": "1bed9d49-8b81-479e-b331-3a48e497c6a2",
   "metadata": {},
   "outputs": [],
   "source": [
    "sc.pl.umap(adata, color=['general_celltype'], size=1, legend_fontsize = 10, legend_loc = 'on data')\n"
   ]
  },
  {
   "cell_type": "code",
   "execution_count": null,
   "id": "bba299db-b2ca-4ef2-8589-41b2e1e6e5b0",
   "metadata": {},
   "outputs": [],
   "source": [
    "adata"
   ]
  },
  {
   "cell_type": "code",
   "execution_count": null,
   "id": "ece56173-5789-427a-9925-1b589e96c83d",
   "metadata": {},
   "outputs": [],
   "source": [
    "adata.obs.drop(columns='celltype_carryover', inplace=True)\n",
    "adata.obs.drop(columns='subtype_carryover', inplace=True)"
   ]
  },
  {
   "cell_type": "code",
   "execution_count": null,
   "id": "dffa2be3-5bfb-4f30-86b9-6516a92f127a",
   "metadata": {},
   "outputs": [],
   "source": [
    "meta = adata.obs\n",
    "meta.to_csv(f\"../IGVF_analysis/cellbender_tissues/obs_tables/{tissue}_annotated_metadata.csv\")\n"
   ]
  },
  {
   "cell_type": "code",
   "execution_count": null,
   "id": "ba0505f1-8f9b-4cde-9917-9fdc95bf5f1d",
   "metadata": {},
   "outputs": [],
   "source": [
    "meta['subtype'].value_counts() # 4600"
   ]
  },
  {
   "cell_type": "code",
   "execution_count": null,
   "id": "916ce705-2b21-4cf8-af5e-be127429c373",
   "metadata": {},
   "outputs": [],
   "source": [
    "adata.write_h5ad(f'../IGVF_analysis/cellbender_tissues/{tissue}_annotated.h5ad')\n"
   ]
  },
  {
   "cell_type": "code",
   "execution_count": null,
   "id": "14f87239-4975-4dc3-9cee-e7ca66e91f2d",
   "metadata": {},
   "outputs": [],
   "source": []
  }
 ],
 "metadata": {
  "kernelspec": {
   "display_name": "Python 3 (ipykernel)",
   "language": "python",
   "name": "python3"
  },
  "language_info": {
   "codemirror_mode": {
    "name": "ipython",
    "version": 3
   },
   "file_extension": ".py",
   "mimetype": "text/x-python",
   "name": "python",
   "nbconvert_exporter": "python",
   "pygments_lexer": "ipython3",
   "version": "3.10.2"
  }
 },
 "nbformat": 4,
 "nbformat_minor": 5
}

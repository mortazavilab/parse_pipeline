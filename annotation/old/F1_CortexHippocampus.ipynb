{
 "cells": [
  {
   "cell_type": "code",
   "execution_count": 1,
   "id": "36acc156-1a4d-4dea-896b-c6ae6f49e725",
   "metadata": {},
   "outputs": [
    {
     "name": "stderr",
     "output_type": "stream",
     "text": [
      "<frozen importlib._bootstrap>:219: RuntimeWarning: scipy._lib.messagestream.MessageStream size changed, may indicate binary incompatibility. Expected 56 from C header, got 64 from PyObject\n"
     ]
    }
   ],
   "source": [
    "import numpy as np\n",
    "import pandas as pd\n",
    "import scanpy as sc\n",
    "import decoupler as dc\n",
    "from pydeseq2.dds import DeseqDataSet\n",
    "from pydeseq2.ds import DeseqStats\n",
    "from itertools import combinations\n",
    "import anndata\n",
    "import matplotlib\n",
    "import matplotlib.pyplot as plt\n",
    "import seaborn as sns\n",
    "import random\n",
    "\n",
    "import plotting_functions as pf"
   ]
  },
  {
   "cell_type": "code",
   "execution_count": 2,
   "id": "0042b984-0130-448c-a5d7-4549710f838f",
   "metadata": {},
   "outputs": [],
   "source": [
    "adata = sc.read(\"/share/crsp/lab/seyedam/erebboah/parse_pipeline/igvf_016/CortexHippocampus/adata.h5ad\")"
   ]
  },
  {
   "cell_type": "code",
   "execution_count": 3,
   "id": "16ee5645-f8f7-47cc-ab37-0041d3458e86",
   "metadata": {},
   "outputs": [
    {
     "data": {
      "text/plain": [
       "AnnData object with n_obs × n_vars = 884018 × 56953\n",
       "    obs: 'bc', 'bc1_sequence', 'bc2_sequence', 'bc3_sequence', 'subpool', 'bc1_well', 'bc2_well', 'bc3_well', 'Mouse_Tissue_ID', 'plate', 'Protocol', 'Chemistry', 'well_type', 'Multiplexed_sample1', 'Multiplexed_sample2', 'Row', 'Column', 'Genotype', 'SampleType', 'Tissue', 'Sex', 'Age', 'Notes', 'DOB', 'Age_days', 'Body_weight_g', 'Estrus_cycle', 'Dissection_date', 'Dissection_time', 'Dissector', 'Tissue_weight_mg', 'mult_genotype_1', 'mult_genotype_2', 'mult_genotype', 'n_counts', 'B6J', 'B6NODF1J', 'B6WSBF1J', 'B6NZOF1J', 'B6AF1J', 'B6PWKF1J', 'B6129S1F1J', 'B6CASTF1J', 'doublet_scores', 'batch'\n",
       "    var: 'gene_name'"
      ]
     },
     "execution_count": 3,
     "metadata": {},
     "output_type": "execute_result"
    }
   ],
   "source": [
    "adata"
   ]
  },
  {
   "cell_type": "code",
   "execution_count": 8,
   "id": "d043bffe-6339-46b7-b707-f614bdea6a93",
   "metadata": {},
   "outputs": [
    {
     "data": {
      "text/plain": [
       "Genotype\n",
       "B6129S1F1J    135251\n",
       "B6AF1J        132186\n",
       "B6J           119498\n",
       "B6NZOF1J      110014\n",
       "B6WSBF1J       91039\n",
       "B6NODF1J       81487\n",
       "B6PWKF1J       78906\n",
       "B6CASTF1J      77873\n",
       "tie            57764\n",
       "Name: count, dtype: int64"
      ]
     },
     "execution_count": 8,
     "metadata": {},
     "output_type": "execute_result"
    }
   ],
   "source": [
    "adata.obs['Genotype'].value_counts()"
   ]
  },
  {
   "cell_type": "code",
   "execution_count": null,
   "id": "4a4b7cf6-8ca9-420b-be43-08d5a1428e47",
   "metadata": {},
   "outputs": [],
   "source": []
  }
 ],
 "metadata": {
  "kernelspec": {
   "display_name": "Python 3 (ipykernel)",
   "language": "python",
   "name": "python3"
  },
  "language_info": {
   "codemirror_mode": {
    "name": "ipython",
    "version": 3
   },
   "file_extension": ".py",
   "mimetype": "text/x-python",
   "name": "python",
   "nbconvert_exporter": "python",
   "pygments_lexer": "ipython3",
   "version": "3.8.0"
  }
 },
 "nbformat": 4,
 "nbformat_minor": 5
}
